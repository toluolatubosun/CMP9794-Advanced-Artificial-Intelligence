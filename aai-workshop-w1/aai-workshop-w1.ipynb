{
 "cells": [
  {
   "cell_type": "code",
   "execution_count": 1,
   "metadata": {},
   "outputs": [
    {
     "name": "stdout",
     "output_type": "stream",
     "text": [
      "C:\\Lincoln\\slides\\CMP9794M-2024-25\\aai-workshop-w1\n"
     ]
    }
   ],
   "source": [
    "# THIS step is dependent on the configuration of your PC\n",
    "# Change the path to the folder where your materials are located\n",
    "import os\n",
    "os.chdir('C:/Lincoln/slides/CMP9794M-2024-25/aai-workshop-w1')\n",
    "print(os.getcwd())"
   ]
  },
  {
   "cell_type": "code",
   "execution_count": 2,
   "metadata": {},
   "outputs": [
    {
     "name": "stdout",
     "output_type": "stream",
     "text": [
      "\n",
      "READING data file data/play_tennis-train.csv...\n",
      "---------------------------------------\n",
      "RANDOM VARIABLES=['O', 'T', 'H', 'W', 'PT']\n",
      "VARIABLE KEY VALUES={'O': ['sunny', 'overcast', 'rain'], 'T': ['hot', 'mild', 'cool'], 'H': ['high', 'normal'], 'W': ['weak', 'strong'], 'PT': ['no', 'yes']}\n",
      "VARIABLE VALUES=[['sunny', 'hot', 'high', 'weak', 'no'], ['sunny', 'hot', 'high', 'strong', 'no'], ['overcast', 'hot', 'high', 'weak', 'yes'], ['rain', 'mild', 'high', 'weak', 'yes'], ['rain', 'cool', 'normal', 'weak', 'yes'], ['rain', 'cool', 'normal', 'strong', 'no'], ['overcast', 'cool', 'normal', 'strong', 'yes'], ['sunny', 'mild', 'high', 'weak', 'no'], ['sunny', 'cool', 'normal', 'weak', 'yes'], ['rain', 'mild', 'normal', 'weak', 'yes'], ['sunny', 'mild', 'normal', 'strong', 'yes'], ['overcast', 'mild', 'high', 'strong', 'yes'], ['overcast', 'hot', 'normal', 'weak', 'yes'], ['rain', 'mild', 'high', 'strong', 'no']]\n",
      "PREDICTOR VARIABLE=PT\n",
      "|data instances|=14\n",
      "\n",
      "ESTIMATING countings...\n",
      "WARNING: missing count for variables=overcast|no\n",
      "countings={'O': {'sunny|no': 3, 'overcast|yes': 4, 'rain|yes': 3, 'rain|no': 2, 'sunny|yes': 2, 'overcast|no': 1e-06}, 'T': {'hot|no': 2, 'hot|yes': 2, 'mild|yes': 4, 'cool|yes': 3, 'cool|no': 1, 'mild|no': 2}, 'H': {'high|no': 4, 'high|yes': 3, 'normal|yes': 6, 'normal|no': 1}, 'W': {'weak|no': 2, 'strong|no': 3, 'weak|yes': 6, 'strong|yes': 3}, 'PT': {'no': 5, 'yes': 9}}\n",
      "\n",
      "ESTIMATING probabilities...\n",
      "P(O)=>{'sunny|no': 0.6, 'overcast|yes': 0.4444444444444444, 'rain|yes': 0.3333333333333333, 'rain|no': 0.4, 'sunny|yes': 0.2222222222222222, 'overcast|no': 2e-07}\tSUM=2.000000\n",
      "P(T)=>{'hot|no': 0.4, 'hot|yes': 0.2222222222222222, 'mild|yes': 0.4444444444444444, 'cool|yes': 0.3333333333333333, 'cool|no': 0.2, 'mild|no': 0.4}\tSUM=2.000000\n",
      "P(H)=>{'high|no': 0.8, 'high|yes': 0.3333333333333333, 'normal|yes': 0.6666666666666666, 'normal|no': 0.2}\tSUM=2.000000\n",
      "P(W)=>{'weak|no': 0.4, 'strong|no': 0.6, 'weak|yes': 0.6666666666666666, 'strong|yes': 0.3333333333333333}\tSUM=2.000000\n",
      "P(PT)=>{'no': 0.35714285714285715, 'yes': 0.6428571428571429}\tSUM=1.000000\n",
      "\n",
      "READING data file data/play_tennis-test.csv...\n",
      "---------------------------------------\n",
      "RANDOM VARIABLES=['O', 'T', 'H', 'W', 'PT']\n",
      "VARIABLE KEY VALUES={'O': ['sunny'], 'T': ['cool'], 'H': ['high'], 'W': ['strong'], 'PT': ['?']}\n",
      "VARIABLE VALUES=[['sunny', 'cool', 'high', 'strong', '?']]\n",
      "PREDICTOR VARIABLE=PT\n",
      "|data instances|=1\n",
      "\n",
      "EVALUATING on test data...\n",
      "Input vector=['sunny', 'cool', 'high', 'strong', '?']\n",
      "UNNORMALISED DISTRIBUTION={'no': 0.02057142857142857, 'yes': 0.005291005291005291}\n",
      "NORMALISED DISTRIBUTION={'no': 0.795417348608838, 'yes': 0.20458265139116202}\n",
      "---\n"
     ]
    }
   ],
   "source": [
    "# THIS step corresponds to training and testing a Bayesian classifier programmed from scratch\n",
    "from NB_Classifier import NB_Classifier\n",
    "\n",
    "file_name_train = \"data/play_tennis-train.csv\"\n",
    "file_name_test = \"data/play_tennis-test.csv\"\n",
    "nb_fitted = NB_Classifier(file_name_train)\n",
    "nb_tester = NB_Classifier(file_name_test, nb_fitted)\n"
   ]
  },
  {
   "cell_type": "code",
   "execution_count": 5,
   "metadata": {},
   "outputs": [],
   "source": [
    "# THIS step corresponds to training and testing a Bayesian classifier using the library 'bnlearn'\n",
    "import bnlearn_PlayTennis\n"
   ]
  },
  {
   "cell_type": "code",
   "execution_count": null,
   "metadata": {},
   "outputs": [],
   "source": [
    "# THIS step is similar to the above but up to you to work it out\n",
    "#import bnlearn_LungCancer"
   ]
  }
 ],
 "metadata": {
  "kernelspec": {
   "display_name": "Python 3",
   "language": "python",
   "name": "python3"
  },
  "language_info": {
   "codemirror_mode": {
    "name": "ipython",
    "version": 3
   },
   "file_extension": ".py",
   "mimetype": "text/x-python",
   "name": "python",
   "nbconvert_exporter": "python",
   "pygments_lexer": "ipython3",
   "version": "3.10.14"
  }
 },
 "nbformat": 4,
 "nbformat_minor": 2
}
